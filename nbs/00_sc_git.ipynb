{
 "cells": [
  {
   "cell_type": "markdown",
   "metadata": {},
   "source": [
    "# Using Git for (distributed) version control"
   ]
  },
  {
   "cell_type": "markdown",
   "metadata": {},
   "source": [
    "## Preamble\n",
    "\n",
    "This Jupyter notebook follows a blog post by Gary Robinson: [https://www.garyrobinson.net/2014/10/git-in-two-minutes-for-a-solo-developer.html].\n",
    "\n",
    "This notebook explains the bare minimum of Git targeting individual users that want to keep track of what they do with the help of the computer. This can be developing software or writing texts. How do you know if in your case getting to know Git will pay off? Well, if you ever worked with a file that was called \"chapter_6_final_final_final_version.txt\" it definitely pay off to invest some time in Git.\n",
    "\n",
    "Using Git you keep track of the changes between the files you are working on. Explored an idea that did not work out? Use Git to roll back to one of the previous versions.\n",
    "\n",
    "Together with some form of backup between your computer and something else, running Git as an individual user (solo developer), no server involved, no other users involved, Git will pay off.\n",
    "\n",
    "As you learn more about Git and after you are comfortable with its basic commands, you can push your repository (most likely a folder or directory on you local computer initialized as a Git repo) to a server holding the master copy of your data. Our second notebook addresses this use of Git (01_sc_more_git.ipynb).\n",
    "\n",
    "The third notebook takes things a step further: Use Git to work with others (02_sc_git_for_teams)."
   ]
  },
  {
   "cell_type": "markdown",
   "metadata": {},
   "source": [
    "## Getting set up to use Git\n",
    "\n",
    "When using Git we will most of the time use the terminal. On Mac OSX or *nix this will be no problem, bash or zsh shells are standard shells, but on MS Windows things are different.\n",
    "\n",
    "Using Mac OSX or *nix `Git` might already be installed. Use the command `git --version` to check if this is the case. If `Git` is **not** installed, use your package manager of choice to install the program.\n",
    "\n",
    "For example on Ubuntu Linux run: `sudo apt install git` or `sudo apt install git-all`.\n",
    "\n",
    "On Mac OSX the easiest way to install `Git` is to install the so-called Xcode Command Line Tools. Another way is to open a terminal and type `git --version`. Then you will be prompted to install `git`.\n",
    "\n",
    "### MS Windows\n",
    "\n",
    "Things are a bit different here. There are a few ways to install `Git` on MS-Windows, but `Git for Windows` probably is the best way to start:\n",
    "\n",
    "- Install `Git for Windows` from https://git-scm.com/download/win This will bring you a Bash emulation shell that allows you to run `Git` from the command line. You will get a similar experience as Max OSX and *nix Git users. The program also provides a Git GUI.\n"
   ]
  },
  {
   "cell_type": "markdown",
   "metadata": {},
   "source": [
    "## Telling Git about your files\n",
    "\n",
    "The whole idea of using `Git` to version control a set of files (a directory, a project, etc.) is that at a certain moment of time you might need or want to go back to a previous version of these files, because the software you are writing stopped working or because you changed a text file and you realize that the changes were not your best ideas.\n",
    "\n",
    "Knowing that **rolling back** is always possible, you might want to use this feature to experiment more, trying out new things or ideas.\n",
    "\n",
    "Being able to compare different versions of the same file might give you valuable information about how you tried to accomplish something, a dash of introspection.\n",
    "\n",
    "### Initialize\n",
    "\n",
    "Let's suppose you have this directory on your computer that contains some files for your next article. In order to be able to use `Git` for versioning (version controlling) your stuff, you must let `Git` know about your project (directory).\n",
    "\n",
    "Inside this directory run from the terminal:\n",
    "\n",
    "`git init`\n",
    "\n",
    "this command initializes the directory for git use.\n",
    "\n",
    "Inside your directory there now lies a hidden directory `.git` that contains some files and a couple of subdirectories. In order to work with Git we drop a README.md file in the directory.\n",
    "\n",
    "Next, we run the command:\n",
    "\n",
    "`git status`\n",
    "\n",
    "Which provides us with the following information:"
   ]
  },
  {
   "cell_type": "code",
   "execution_count": null,
   "metadata": {
    "vscode": {
     "languageId": "plaintext"
    }
   },
   "outputs": [],
   "source": [
    "On branch master\n",
    "\n",
    "No commits yet\n",
    "\n",
    "Untracked files:\n",
    "  (use \"git add <file>...\" to include in what will be committed)\n",
    "\tREADME.md\n",
    "\n",
    "nothing added to commit but untracked files present (use \"git add\" to track)"
   ]
  },
  {
   "cell_type": "markdown",
   "metadata": {},
   "source": [
    "We get the gist of this a little bit:\n",
    "\n",
    "- our directory is referred to as **master**\n",
    "- so far there are no **commits**\n",
    "- but there is an **untracked file**: README.md\n",
    "- we are kindly suggested to tell `Git` about our file using the `add` command: `git add README.md`.\n",
    "\n",
    "Now, if we run `git status` again, we see the following:"
   ]
  },
  {
   "cell_type": "markdown",
   "metadata": {},
   "source": [
    "## Committing changes"
   ]
  },
  {
   "cell_type": "markdown",
   "metadata": {},
   "source": [
    "## Viewing history"
   ]
  },
  {
   "cell_type": "markdown",
   "metadata": {},
   "source": [
    "## Restoring an old version"
   ]
  },
  {
   "cell_type": "markdown",
   "metadata": {},
   "source": [
    "## Seeing changes"
   ]
  },
  {
   "cell_type": "markdown",
   "metadata": {},
   "source": [
    "## Undoing a wrong (bad) commit"
   ]
  },
  {
   "cell_type": "markdown",
   "metadata": {},
   "source": [
    "## Other things"
   ]
  }
 ],
 "metadata": {
  "language_info": {
   "name": "python"
  },
  "orig_nbformat": 4
 },
 "nbformat": 4,
 "nbformat_minor": 2
}
