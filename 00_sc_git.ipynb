{
 "cells": [
  {
   "cell_type": "markdown",
   "metadata": {},
   "source": [
    "# Using Git for (distributed) version control"
   ]
  },
  {
   "cell_type": "markdown",
   "metadata": {},
   "source": [
    "## Preamble\n",
    "\n",
    "This Jupyter notebook follows a blog post by Gary Robinson: [https://www.garyrobinson.net/2014/10/git-in-two-minutes-for-a-solo-developer.html].\n",
    "\n",
    "This notebook explains the bare minimum of Git targeting individual users that want to keep track of what they do with the help of the computer. This can be developing software or writing texts. How do you know if in your case getting to know Git will pay off? Well, if you ever worked with a file that was called \"chapter_6_final_final_final_version.txt\" it definitely pay off to invest some time in Git.\n",
    "\n",
    "Using Git you keep track of the changes between the files you are working on. Explored an idea that did not work out? Use Git to roll back to one of the previous versions.\n",
    "\n",
    "Together with some form of backup between your computer and something else, running Git as an individual user, no server involved, no other users involved, Git will pay off.\n",
    "\n",
    "As you learn more about Git and after you are comfortable with its basic commands, you can push your repository (most likely a folder or directory on you local computer initialized as a Git repo) to a server holding the master copy of your data. Our second notebook addresses this use of Git (01_sc_more_git.ipynb).\n",
    "\n",
    "The third notebook takes things a step further: Use Git to work with others (02_sc_git_for_teams)."
   ]
  },
  {
   "cell_type": "markdown",
   "metadata": {},
   "source": [
    "## Getting set up to use Git"
   ]
  },
  {
   "cell_type": "markdown",
   "metadata": {},
   "source": [
    "## Telling Git about your files"
   ]
  },
  {
   "cell_type": "markdown",
   "metadata": {},
   "source": [
    "## Committing changes"
   ]
  },
  {
   "cell_type": "markdown",
   "metadata": {},
   "source": [
    "## Viewing history"
   ]
  },
  {
   "cell_type": "markdown",
   "metadata": {},
   "source": [
    "## Restoring an old version"
   ]
  },
  {
   "cell_type": "markdown",
   "metadata": {},
   "source": [
    "## Seeing changes"
   ]
  },
  {
   "cell_type": "markdown",
   "metadata": {},
   "source": [
    "## Undoing a wrong (bad) commit"
   ]
  },
  {
   "cell_type": "markdown",
   "metadata": {},
   "source": [
    "## One more thing"
   ]
  }
 ],
 "metadata": {
  "language_info": {
   "name": "python"
  },
  "orig_nbformat": 4
 },
 "nbformat": 4,
 "nbformat_minor": 2
}
